{
 "cells": [
  {
   "cell_type": "code",
   "execution_count": 2,
   "id": "0b47776c",
   "metadata": {},
   "outputs": [],
   "source": [
    "import numpy as np\n"
   ]
  },
  {
   "cell_type": "code",
   "execution_count": null,
   "id": "6b4c9b2b",
   "metadata": {},
   "outputs": [],
   "source": [
    "np.create "
   ]
  },
  {
   "cell_type": "code",
   "execution_count": 1,
   "id": "899c785f",
   "metadata": {},
   "outputs": [
    {
     "name": "stdout",
     "output_type": "stream",
     "text": [
      "karan is mad\n"
     ]
    }
   ],
   "source": [
    "print ('karan is mad')\n"
   ]
  },
  {
   "cell_type": "code",
   "execution_count": 1,
   "id": "7820a9d6",
   "metadata": {},
   "outputs": [],
   "source": [
    "import turtle\n",
    "\n",
    "turtle.speed(10)\n",
    "turtle.bgcolor(\"black\")\n",
    "\n",
    "for i in range(5):\n",
    "    for colours in [\"red\",\"cyan\", \"green\",\"orange\", \"blue\",\"lime\",\"lightblue\"]:\n",
    "        turtle.color(colours)\n",
    "        turtle.pensize(3)\n",
    "        turtle.lt(12)\n",
    "        for i in range(4):\n",
    "            turtle.fd(200)\n",
    "            turtle.lt(90)\n",
    "turtle.done()"
   ]
  },
  {
   "cell_type": "code",
   "execution_count": null,
   "id": "417cbc6f",
   "metadata": {},
   "outputs": [],
   "source": [
    "from turtle import *\n",
    "# Doraemon with Python Turtle\n",
    "\n",
    "\n",
    "def ankur(x, y):\n",
    "    penup()\n",
    "    goto(x, y)\n",
    "    pendown()\n",
    "\n",
    "\n",
    "def aankha():\n",
    "    fillcolor(\"#ffffff\")\n",
    "    begin_fill()\n",
    "\n",
    "    tracer(False)\n",
    "    a = 2.5\n",
    "    for i in range(120):\n",
    "        if 0 <= i < 30 or 60 <= i < 90:\n",
    "            a -= 0.05\n",
    "            lt(3)\n",
    "            fd(a)\n",
    "        else:\n",
    "            a += 0.05\n",
    "            lt(3)\n",
    "            fd(a)\n",
    "    tracer(True)\n",
    "    end_fill()\n",
    "\n",
    "\n",
    "def daari():\n",
    "    ankur(-32, 135)\n",
    "    seth(165)\n",
    "    fd(60)\n",
    "\n",
    "    ankur(-32, 125)\n",
    "    seth(180)\n",
    "    fd(60)\n",
    "\n",
    "    ankur(-32, 115)\n",
    "    seth(193)\n",
    "    fd(60)\n",
    "\n",
    "    ankur(37, 135)\n",
    "    seth(15)\n",
    "    fd(60)\n",
    "\n",
    "    ankur(37, 125)\n",
    "    seth(0)\n",
    "    fd(60)\n",
    "\n",
    "    ankur(37, 115)\n",
    "    seth(-13)\n",
    "    fd(60)\n",
    "\n",
    "\n",
    "def mukh():\n",
    "    ankur(5, 148)\n",
    "    seth(270)\n",
    "    fd(100)\n",
    "    seth(0)\n",
    "    circle(120, 50)\n",
    "    seth(230)\n",
    "    circle(-120, 100)\n",
    "\n",
    "\n",
    "def muflar():\n",
    "    fillcolor('#e70010')\n",
    "    begin_fill()\n",
    "    seth(0)\n",
    "    fd(200)\n",
    "    circle(-5, 90)\n",
    "    fd(10)\n",
    "    circle(-5, 90)\n",
    "    fd(207)\n",
    "    circle(-5, 90)\n",
    "    fd(10)\n",
    "    circle(-5, 90)\n",
    "    end_fill()\n",
    "\n",
    "\n",
    "def nak():\n",
    "    ankur(-10, 158)\n",
    "    seth(315)\n",
    "    fillcolor('#e70010')\n",
    "    begin_fill()\n",
    "    circle(20)\n",
    "    end_fill()\n",
    "\n",
    "\n",
    "def black_aankha():\n",
    "    seth(0)\n",
    "    ankur(-20, 195)\n",
    "    fillcolor('#000000')\n",
    "    begin_fill()\n",
    "    circle(13)\n",
    "    end_fill()\n",
    "\n",
    "    pensize(6)\n",
    "    ankur(20, 205)\n",
    "    seth(75)\n",
    "    circle(-10, 150)\n",
    "    pensize(3)\n",
    "\n",
    "    ankur(-17, 200)\n",
    "    seth(0)\n",
    "    fillcolor('#ffffff')\n",
    "    begin_fill()\n",
    "    circle(5)\n",
    "    end_fill()\n",
    "    ankur(0, 0)\n",
    "\n",
    "\n",
    "def face():\n",
    "    fd(183)\n",
    "    lt(45)\n",
    "    fillcolor('#ffffff')\n",
    "    begin_fill()\n",
    "    circle(120, 100)\n",
    "    seth(180)\n",
    "    # print(pos())\n",
    "    fd(121)\n",
    "    pendown()\n",
    "    seth(215)\n",
    "    circle(120, 100)\n",
    "    end_fill()\n",
    "    ankur(63.56, 218.24)\n",
    "    seth(90)\n",
    "    aankha()\n",
    "    seth(180)\n",
    "    penup()\n",
    "    fd(60)\n",
    "    pendown()\n",
    "    seth(90)\n",
    "    aankha()\n",
    "    penup()\n",
    "    seth(180)\n",
    "    fd(64)\n",
    "\n",
    "\n",
    "def taauko():\n",
    "    penup()\n",
    "    circle(150, 40)\n",
    "    pendown()\n",
    "    fillcolor('#00a0de')\n",
    "    begin_fill()\n",
    "    circle(150, 280)\n",
    "    end_fill()\n",
    "\n",
    "\n",
    "def Doraemon():\n",
    "    taauko()\n",
    "\n",
    "    muflar()\n",
    "\n",
    "    face()\n",
    "\n",
    "    nak()\n",
    "\n",
    "    mukh()\n",
    "\n",
    "    daari()\n",
    "\n",
    "    ankur(0, 0)\n",
    "\n",
    "    seth(0)\n",
    "    penup()\n",
    "    circle(150, 50)\n",
    "    pendown()\n",
    "    seth(30)\n",
    "    fd(40)\n",
    "    seth(70)\n",
    "    circle(-30, 270)\n",
    "\n",
    "    fillcolor('#00a0de')\n",
    "    begin_fill()\n",
    "\n",
    "    seth(230)\n",
    "    fd(80)\n",
    "    seth(90)\n",
    "    circle(1000, 1)\n",
    "    seth(-89)\n",
    "    circle(-1000, 10)\n",
    "\n",
    "    # print(pos())\n",
    "\n",
    "    seth(180)\n",
    "    fd(70)\n",
    "    seth(90)\n",
    "    circle(30, 180)\n",
    "    seth(180)\n",
    "    fd(70)\n",
    "\n",
    "    # print(pos())\n",
    "    seth(100)\n",
    "    circle(-1000, 9)\n",
    "\n",
    "    seth(-86)\n",
    "    circle(1000, 2)\n",
    "    seth(230)\n",
    "    fd(40)\n",
    "\n",
    "    # print(pos())\n",
    "\n",
    "    circle(-30, 230)\n",
    "    seth(45)\n",
    "    fd(81)\n",
    "    seth(0)\n",
    "    fd(203)\n",
    "    circle(5, 90)\n",
    "    fd(10)\n",
    "    circle(5, 90)\n",
    "    fd(7)\n",
    "    seth(40)\n",
    "    circle(150, 10)\n",
    "    seth(30)\n",
    "    fd(40)\n",
    "    end_fill()\n",
    "\n",
    "    seth(70)\n",
    "    fillcolor('#ffffff')\n",
    "    begin_fill()\n",
    "    circle(-30)\n",
    "    end_fill()\n",
    "\n",
    "    ankur(103.74, -182.59)\n",
    "    seth(0)\n",
    "    fillcolor('#ffffff')\n",
    "    begin_fill()\n",
    "    fd(15)\n",
    "    circle(-15, 180)\n",
    "    fd(90)\n",
    "    circle(-15, 180)\n",
    "    fd(10)\n",
    "    end_fill()\n",
    "\n",
    "    ankur(-96.26, -182.59)\n",
    "    seth(180)\n",
    "    fillcolor('#ffffff')\n",
    "    begin_fill()\n",
    "    fd(15)\n",
    "    circle(15, 180)\n",
    "    fd(90)\n",
    "    circle(15, 180)\n",
    "    fd(10)\n",
    "    end_fill()\n",
    "\n",
    "    ankur(-133.97, -91.81)\n",
    "    seth(50)\n",
    "    fillcolor('#ffffff')\n",
    "    begin_fill()\n",
    "    circle(30)\n",
    "    end_fill()\n",
    "    # Doraemon with Python Turtle\n",
    "\n",
    "    ankur(-103.42, 15.09)\n",
    "    seth(0)\n",
    "    fd(38)\n",
    "    seth(230)\n",
    "    begin_fill()\n",
    "    circle(90, 260)\n",
    "    end_fill()\n",
    "\n",
    "    ankur(5, -40)\n",
    "    seth(0)\n",
    "    fd(70)\n",
    "    seth(-90)\n",
    "    circle(-70, 180)\n",
    "    seth(0)\n",
    "    fd(70)\n",
    "\n",
    "    ankur(-103.42, 15.09)\n",
    "    fd(90)\n",
    "    seth(70)\n",
    "    fillcolor('#ffd200')\n",
    "    # print(pos())\n",
    "    begin_fill()\n",
    "    circle(-20)\n",
    "    end_fill()\n",
    "    seth(170)\n",
    "    fillcolor('#ffd200')\n",
    "    begin_fill()\n",
    "    circle(-2, 180)\n",
    "    seth(10)\n",
    "    circle(-100, 22)\n",
    "    circle(-2, 180)\n",
    "    seth(180 - 10)\n",
    "    circle(100, 22)\n",
    "    end_fill()\n",
    "    goto(-13.42, 15.09)\n",
    "    seth(250)\n",
    "    circle(20, 110)\n",
    "    seth(90)\n",
    "    fd(15)\n",
    "    dot(10)\n",
    "    ankur(0, -150)\n",
    "\n",
    "    black_aankha()\n",
    "\n",
    "\n",
    "if __name__ == '__main__':\n",
    "    screensize(800, 600, \"#f0f0f0\")\n",
    "    pensize(3)\n",
    "    speed(9)\n",
    "    Doraemon()\n",
    "    ankur(100, -300)\n",
    "    mainloop()"
   ]
  },
  {
   "cell_type": "code",
   "execution_count": 4,
   "id": "856c0e6c",
   "metadata": {},
   "outputs": [
    {
     "data": {
      "text/plain": [
       "array([20, 19, 18, 17, 16, 15, 14, 13, 12, 11, 10,  9,  8,  7,  6,  5,  4,\n",
       "        3,  2,  1])"
      ]
     },
     "execution_count": 4,
     "metadata": {},
     "output_type": "execute_result"
    }
   ],
   "source": [
    "array = np.arange(20,0,-1)\n",
    "array"
   ]
  },
  {
   "cell_type": "code",
   "execution_count": 18,
   "id": "8eef0cf1",
   "metadata": {},
   "outputs": [
    {
     "data": {
      "text/plain": [
       "array([ 0,  2,  5,  8, 11])"
      ]
     },
     "execution_count": 18,
     "metadata": {},
     "output_type": "execute_result"
    }
   ],
   "source": [
    "array2 = np.linspace(0, 11, 5, int, dtype = int)\n",
    "array2"
   ]
  },
  {
   "cell_type": "code",
   "execution_count": 17,
   "id": "001acc02",
   "metadata": {},
   "outputs": [
    {
     "name": "stdout",
     "output_type": "stream",
     "text": [
      "[20 17 15 13 10  8  6  3  1 -1]\n"
     ]
    }
   ],
   "source": [
    "array3 = np.linspace(20, -1, 10, dtype = int)\n",
    "print(array3)"
   ]
  },
  {
   "cell_type": "code",
   "execution_count": 13,
   "id": "7b241c21",
   "metadata": {},
   "outputs": [
    {
     "name": "stdout",
     "output_type": "stream",
     "text": [
      "[2.12853761e-278 1.91263566e+171]\n"
     ]
    }
   ],
   "source": [
    "arra = np.empty(2)\n",
    "print(arra)"
   ]
  },
  {
   "cell_type": "code",
   "execution_count": 20,
   "id": "d30a5fea",
   "metadata": {},
   "outputs": [
    {
     "data": {
      "text/plain": [
       "array([[0, 0],\n",
       "       [0, 0]])"
      ]
     },
     "execution_count": 20,
     "metadata": {},
     "output_type": "execute_result"
    }
   ],
   "source": [
    "new = np.zeros((2, 2),dtype = int)\n",
    "new"
   ]
  },
  {
   "cell_type": "code",
   "execution_count": 27,
   "id": "c2455eb2",
   "metadata": {},
   "outputs": [
    {
     "data": {
      "text/plain": [
       "array([0, 8, 0, 7, 9])"
      ]
     },
     "execution_count": 27,
     "metadata": {},
     "output_type": "execute_result"
    }
   ],
   "source": [
    "x = np.random.randint(0,10,5, dtype = int)\n",
    "x"
   ]
  },
  {
   "cell_type": "code",
   "execution_count": 33,
   "id": "70e48cf6",
   "metadata": {},
   "outputs": [
    {
     "name": "stdout",
     "output_type": "stream",
     "text": [
      "[9 7 0 8 0]\n"
     ]
    }
   ],
   "source": [
    "print(x[::-1])"
   ]
  },
  {
   "cell_type": "code",
   "execution_count": 36,
   "id": "a253293b",
   "metadata": {},
   "outputs": [
    {
     "name": "stdout",
     "output_type": "stream",
     "text": [
      "[0]\n"
     ]
    }
   ],
   "source": [
    "print(x[0::-1])"
   ]
  },
  {
   "cell_type": "code",
   "execution_count": 40,
   "id": "17362e90",
   "metadata": {},
   "outputs": [
    {
     "ename": "ValueError",
     "evalue": "operands could not be broadcast together with shapes (8,) (4,) ",
     "output_type": "error",
     "traceback": [
      "\u001b[1;31m---------------------------------------------------------------------------\u001b[0m",
      "\u001b[1;31mValueError\u001b[0m                                Traceback (most recent call last)",
      "Input \u001b[1;32mIn [40]\u001b[0m, in \u001b[0;36m<cell line: 3>\u001b[1;34m()\u001b[0m\n\u001b[0;32m      1\u001b[0m x1 \u001b[38;5;241m=\u001b[39m np\u001b[38;5;241m.\u001b[39marray([\u001b[38;5;241m2\u001b[39m, \u001b[38;5;241m3\u001b[39m, \u001b[38;5;241m5\u001b[39m, \u001b[38;5;241m5\u001b[39m])\n\u001b[0;32m      2\u001b[0m x2 \u001b[38;5;241m=\u001b[39m np\u001b[38;5;241m.\u001b[39marray([\u001b[38;5;241m11\u001b[39m, \u001b[38;5;241m22\u001b[39m, \u001b[38;5;241m33\u001b[39m, \u001b[38;5;241m44\u001b[39m, \u001b[38;5;241m55\u001b[39m, \u001b[38;5;241m9\u001b[39m, \u001b[38;5;241m0\u001b[39m, \u001b[38;5;241m33\u001b[39m])\n\u001b[1;32m----> 3\u001b[0m \u001b[38;5;28mprint\u001b[39m(\u001b[43mx2\u001b[49m\u001b[43m \u001b[49m\u001b[38;5;241;43m*\u001b[39;49m\u001b[43m \u001b[49m\u001b[43mx1\u001b[49m)\n",
      "\u001b[1;31mValueError\u001b[0m: operands could not be broadcast together with shapes (8,) (4,) "
     ]
    }
   ],
   "source": [
    "x1 = np.array([2, 3, 5, 5])\n",
    "x2 = np.array([11, 22, 33, 44, 55, 9, 0, 33])\n",
    "print(x2 * x1)"
   ]
  },
  {
   "cell_type": "code",
   "execution_count": 41,
   "id": "690ca3cf",
   "metadata": {},
   "outputs": [
    {
     "name": "stdout",
     "output_type": "stream",
     "text": [
      "[ 10  40  90 160]\n"
     ]
    }
   ],
   "source": [
    "a= np.array([1,2,3,4]) \n",
    "\n",
    "b = np.array([10,20,30,40]) \n",
    "\n",
    "c = a * b \n",
    "print(c)"
   ]
  },
  {
   "cell_type": "code",
   "execution_count": 43,
   "id": "be241eda",
   "metadata": {},
   "outputs": [
    {
     "data": {
      "text/plain": [
       "array([[ 0,  0,  0],\n",
       "       [ 0, 10, 20],\n",
       "       [ 0, 20, 40],\n",
       "       [ 0, 30, 60]])"
      ]
     },
     "execution_count": 43,
     "metadata": {},
     "output_type": "execute_result"
    }
   ],
   "source": [
    "a1 = np.array([[0,0,0],[10,10,10],[20,20,20],[30,30,30]]) \n",
    "\n",
    "b1 = np.array([0,1,2])\n",
    "a1*b1"
   ]
  },
  {
   "cell_type": "code",
   "execution_count": 44,
   "id": "715058b6",
   "metadata": {},
   "outputs": [
    {
     "data": {
      "text/plain": [
       "[10, 20, 40]"
      ]
     },
     "execution_count": 44,
     "metadata": {},
     "output_type": "execute_result"
    }
   ],
   "source": [
    "[b[0],b[1],b[3]]"
   ]
  },
  {
   "cell_type": "code",
   "execution_count": 47,
   "id": "a09579a9",
   "metadata": {},
   "outputs": [],
   "source": [
    "import pandas as pd"
   ]
  },
  {
   "cell_type": "code",
   "execution_count": 48,
   "id": "bee497ef",
   "metadata": {},
   "outputs": [
    {
     "data": {
      "text/plain": [
       "2    0.25\n",
       "5    0.50\n",
       "3    0.75\n",
       "7    1.00\n",
       "dtype: float64"
      ]
     },
     "execution_count": 48,
     "metadata": {},
     "output_type": "execute_result"
    }
   ],
   "source": [
    "data = pd.Series([0.25, 0.5, 0.75, 1.0], index=[2, 5, 3, 7])\n",
    "data"
   ]
  },
  {
   "cell_type": "code",
   "execution_count": 49,
   "id": "8f3fe7a4",
   "metadata": {},
   "outputs": [
    {
     "data": {
      "text/plain": [
       "California    38332521\n",
       "Texas         26448193\n",
       "New York      19651127\n",
       "Florida       19552860\n",
       "Illinois      12882135\n",
       "dtype: int64"
      ]
     },
     "execution_count": 49,
     "metadata": {},
     "output_type": "execute_result"
    }
   ],
   "source": [
    "population_dict = {'California': 38332521, 'Texas': 26448193, 'New York': 19651127, 'Florida': 19552860, 'Illinois': 12882135} \n",
    "\n",
    "population = pd.Series(population_dict) \n",
    "\n",
    "population"
   ]
  },
  {
   "cell_type": "code",
   "execution_count": 78,
   "id": "2931c4ba",
   "metadata": {},
   "outputs": [
    {
     "data": {
      "image/png": "[encoded data removed]",
      "text/plain": [
       "<Figure size 432x288 with 1 Axes>"
      ]
     },
     "metadata": {
      "needs_background": "light"
     },
     "output_type": "display_data"
    }
   ],
   "source": [
    "\n",
    "import matplotlib as mpl\n",
    "\n",
    "import matplotlib.pyplot as plt\n",
    "\n",
    "\n",
    "\n",
    "x = np.linspace(0, 10, 100)\n",
    "\n",
    "plt.plot(x, np.sin(x),color = 'black')\n",
    "\n",
    "plt.plot(x, np.cos(x),color = 'red')\n",
    "\n",
    "plt.show()"
   ]
  },
  {
   "cell_type": "code",
   "execution_count": 80,
   "id": "970aaa7e",
   "metadata": {},
   "outputs": [
    {
     "data": {
      "image/png": "[encoded data removed]",
      "text/plain": [
       "<Figure size 432x288 with 1 Axes>"
      ]
     },
     "metadata": {
      "needs_background": "light"
     },
     "output_type": "display_data"
    }
   ],
   "source": [
    "x = np.linspace(0, 10, 100) \n",
    "\n",
    "y = np.sin(x) \n",
    "\n",
    "plt.plot(x, y, '*')\n",
    "plt.plot(x,np.cos(x),'o')\n",
    "plt.show()"
   ]
  },
  {
   "cell_type": "code",
   "execution_count": null,
   "id": "a1926302",
   "metadata": {},
   "outputs": [],
   "source": []
  }
 ],
 "metadata": {
  "kernelspec": {
   "display_name": "Python 3 (ipykernel)",
   "language": "python",
   "name": "python3"
  },
  "language_info": {
   "codemirror_mode": {
    "name": "ipython",
    "version": 3
   },
   "file_extension": ".py",
   "mimetype": "text/x-python",
   "name": "python",
   "nbconvert_exporter": "python",
   "pygments_lexer": "ipython3",
   "version": "3.9.12"
  }
 },
 "nbformat": 4,
 "nbformat_minor": 5
}
