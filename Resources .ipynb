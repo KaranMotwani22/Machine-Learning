{
 "cells": [
  {
   "cell_type": "markdown",
   "id": "8fb5c295",
   "metadata": {},
   "source": [
    "Tensorflow Basic :  https://goo.gle/2Zp2ZF3"
   ]
  },
  {
   "cell_type": "markdown",
   "id": "71dc4283",
   "metadata": {},
   "source": [
    "Basic Computer vision : https://goo.gle/34cHkDk"
   ]
  },
  {
   "cell_type": "markdown",
   "id": "b56c7514",
   "metadata": {},
   "source": [
    "for learning convolutions and pooling in tensorflow : https://developers.google.com/codelabs/tensorflow-3-convolutions#1"
   ]
  }
 ],
 "metadata": {
  "kernelspec": {
   "display_name": "Python 3 (ipykernel)",
   "language": "python",
   "name": "python3"
  },
  "language_info": {
   "codemirror_mode": {
    "name": "ipython",
    "version": 3
   },
   "file_extension": ".py",
   "mimetype": "text/x-python",
   "name": "python",
   "nbconvert_exporter": "python",
   "pygments_lexer": "ipython3",
   "version": "3.9.12"
  }
 },
 "nbformat": 4,
 "nbformat_minor": 5
}
